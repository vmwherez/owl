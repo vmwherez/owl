{
 "cells": [
  {
   "cell_type": "markdown",
   "metadata": {
    "nteract": {
     "transient": {
      "deleting": false
     }
    }
   },
   "source": [
    "# 2023-07-08\n",
    "\n",
    "\n"
   ]
  },
  {
   "cell_type": "markdown",
   "metadata": {
    "nteract": {
     "transient": {
      "deleting": false
     }
    }
   },
   "source": [
    "$$\n",
    "V = IR = I\\left( {\\frac{L}{{\\sigma A}}} \\right) = I\\left( {\\frac{{\\rho L}}{A}} \\right)\n",
    "$$\n",
    "*Ohm's Law*\n",
    "\n",
    "- https://en.wikipedia.org/wiki/Ohm%27s_law"
   ]
  },
  {
   "cell_type": "code",
   "execution_count": 3,
   "metadata": {
    "collapsed": true,
    "execution": {
     "iopub.execute_input": "2023-07-08T18:51:12.162Z",
     "iopub.status.busy": "2023-07-08T18:51:12.158Z",
     "iopub.status.idle": "2023-07-08T18:51:27.562Z",
     "shell.execute_reply": "2023-07-08T18:51:27.565Z"
    },
    "jupyter": {
     "outputs_hidden": true,
     "source_hidden": false
    },
    "nteract": {
     "transient": {
      "deleting": false
     }
    }
   },
   "outputs": [
    {
     "name": "stdout",
     "output_type": "stream",
     "text": [
      "Requirement already satisfied: schemdraw in /Users/vincent.miller@nutrien.com/miniconda3/lib/python3.10/site-packages (0.17)\n",
      "Collecting matplotlib\n",
      "  Downloading matplotlib-3.7.2-cp310-cp310-macosx_10_12_x86_64.whl (7.4 MB)\n",
      "\u001b[2K     \u001b[90m━━━━━━━━━━━━━━━━━━━━━━━━━━━━━━━━━━━━━━━━\u001b[0m \u001b[32m7.4/7.4 MB\u001b[0m \u001b[31m1.3 MB/s\u001b[0m eta \u001b[36m0:00:00\u001b[0m00:01\u001b[0m00:01\u001b[0m\n",
      "\u001b[?25hCollecting cycler>=0.10\n",
      "  Downloading cycler-0.11.0-py3-none-any.whl (6.4 kB)\n",
      "Requirement already satisfied: python-dateutil>=2.7 in /Users/vincent.miller@nutrien.com/miniconda3/lib/python3.10/site-packages (from matplotlib) (2.8.2)\n",
      "Requirement already satisfied: numpy>=1.20 in /Users/vincent.miller@nutrien.com/miniconda3/lib/python3.10/site-packages (from matplotlib) (1.25.0)\n",
      "Collecting contourpy>=1.0.1\n",
      "  Downloading contourpy-1.1.0-cp310-cp310-macosx_10_9_x86_64.whl (243 kB)\n",
      "\u001b[2K     \u001b[90m━━━━━━━━━━━━━━━━━━━━━━━━━━━━━━━━━━━━━━━\u001b[0m \u001b[32m243.6/243.6 kB\u001b[0m \u001b[31m1.2 MB/s\u001b[0m eta \u001b[36m0:00:00\u001b[0ma \u001b[36m0:00:01\u001b[0m\n",
      "\u001b[?25hRequirement already satisfied: packaging>=20.0 in /Users/vincent.miller@nutrien.com/miniconda3/lib/python3.10/site-packages (from matplotlib) (23.0)\n",
      "Collecting kiwisolver>=1.0.1\n",
      "  Downloading kiwisolver-1.4.4-cp310-cp310-macosx_10_9_x86_64.whl (65 kB)\n",
      "\u001b[2K     \u001b[90m━━━━━━━━━━━━━━━━━━━━━━━━━━━━━━━━━━━━━━━\u001b[0m \u001b[32m65.5/65.5 kB\u001b[0m \u001b[31m891.3 kB/s\u001b[0m eta \u001b[36m0:00:00\u001b[0m \u001b[36m0:00:01\u001b[0m\n",
      "\u001b[?25hCollecting pillow>=6.2.0\n",
      "  Downloading Pillow-10.0.0-cp310-cp310-macosx_10_10_x86_64.whl (3.4 MB)\n",
      "\u001b[2K     \u001b[90m━━━━━━━━━━━━━━━━━━━━━━━━━━━━━━━━━━━━━━━━\u001b[0m \u001b[32m3.4/3.4 MB\u001b[0m \u001b[31m1.6 MB/s\u001b[0m eta \u001b[36m0:00:00\u001b[0m00:01\u001b[0m00:01\u001b[0m\n",
      "\u001b[?25hCollecting pyparsing<3.1,>=2.3.1\n",
      "  Downloading pyparsing-3.0.9-py3-none-any.whl (98 kB)\n",
      "\u001b[2K     \u001b[90m━━━━━━━━━━━━━━━━━━━━━━━━━━━━━━━━━━━━━━━━\u001b[0m \u001b[32m98.3/98.3 kB\u001b[0m \u001b[31m1.7 MB/s\u001b[0m eta \u001b[36m0:00:00\u001b[0ma \u001b[36m0:00:01\u001b[0m\n",
      "\u001b[?25hCollecting fonttools>=4.22.0\n",
      "  Downloading fonttools-4.40.0-cp310-cp310-macosx_10_9_x86_64.whl (2.1 MB)\n",
      "\u001b[2K     \u001b[90m━━━━━━━━━━━━━━━━━━━━━━━━━━━━━━━━━━━━━━━━\u001b[0m \u001b[32m2.1/2.1 MB\u001b[0m \u001b[31m2.2 MB/s\u001b[0m eta \u001b[36m0:00:00\u001b[0m00:01\u001b[0m00:01\u001b[0m\n",
      "\u001b[?25hRequirement already satisfied: six>=1.5 in /Users/vincent.miller@nutrien.com/miniconda3/lib/python3.10/site-packages (from python-dateutil>=2.7->matplotlib) (1.16.0)\n",
      "Installing collected packages: pyparsing, pillow, kiwisolver, fonttools, cycler, contourpy, matplotlib\n",
      "Successfully installed contourpy-1.1.0 cycler-0.11.0 fonttools-4.40.0 kiwisolver-1.4.4 matplotlib-3.7.2 pillow-10.0.0 pyparsing-3.0.9\n"
     ]
    }
   ],
   "source": [
    "!pip install schemdraw matplotlib"
   ]
  },
  {
   "cell_type": "code",
   "execution_count": 4,
   "metadata": {
    "execution": {
     "iopub.execute_input": "2023-07-08T18:51:50.541Z",
     "iopub.status.busy": "2023-07-08T18:51:50.538Z",
     "iopub.status.idle": "2023-07-08T18:51:56.160Z",
     "shell.execute_reply": "2023-07-08T18:51:56.199Z"
    },
    "nteract": {
     "transient": {
      "deleting": false
     }
    },
    "tags": []
   },
   "outputs": [
    {
     "name": "stderr",
     "output_type": "stream",
     "text": [
      "Fontconfig warning: ignoring UTF-8: not a valid region tag\n"
     ]
    },
    {
     "data": {
      "image/png": "[encoded data removed]",
      "image/svg+xml": [
       "<?xml version=\"1.0\" encoding=\"utf-8\" standalone=\"no\"?>\n",
       "<!DOCTYPE svg PUBLIC \"-//W3C//DTD SVG 1.1//EN\"\n",
       "  \"http://www.w3.org/Graphics/SVG/1.1/DTD/svg11.dtd\">\n",
       "<svg xmlns:xlink=\"http://www.w3.org/1999/xlink\" width=\"177.007031pt\" height=\"145.747656pt\" viewBox=\"0 0 177.007031 145.747656\" xmlns=\"http://www.w3.org/2000/svg\" version=\"1.1\">\n",
       " <metadata>\n",
       "  <rdf:RDF xmlns:dc=\"http://purl.org/dc/elements/1.1/\" xmlns:cc=\"http://creativecommons.org/ns#\" xmlns:rdf=\"http://www.w3.org/1999/02/22-rdf-syntax-ns#\">\n",
       "   <cc:Work>\n",
       "    <dc:type rdf:resource=\"http://purl.org/dc/dcmitype/StillImage\"/>\n",
       "    <dc:date>2023-07-08T12:51:56.115184</dc:date>\n",
       "    <dc:format>image/svg+xml</dc:format>\n",
       "    <dc:creator>\n",
       "     <cc:Agent>\n",
       "      <dc:title>Matplotlib v3.7.2, https://matplotlib.org/</dc:title>\n",
       "     </cc:Agent>\n",
       "    </dc:creator>\n",
       "   </cc:Work>\n",
       "  </rdf:RDF>\n",
       " </metadata>\n",
       " <defs>\n",
       "  <style type=\"text/css\">*{stroke-linejoin: round; stroke-linecap: butt}</style>\n",
       " </defs>\n",
       " <g id=\"figure_1\">\n",
       "  <g id=\"patch_1\">\n",
       "   <path d=\"M 0 145.747656 \n",
       "L 177.007031 145.747656 \n",
       "L 177.007031 0 \n",
       "L 0 0 \n",
       "z\n",
       "\" style=\"fill: #ffffff\"/>\n",
       "  </g>\n",
       "  <g id=\"axes_1\">\n",
       "   <g id=\"patch_2\">\n",
       "    <path d=\"M 49.657031 100.297656 \n",
       "C 54.430687 100.297656 59.009469 98.401063 62.384953 95.025578 \n",
       "C 65.760438 91.650094 67.657031 87.071312 67.657031 82.297656 \n",
       "C 67.657031 77.524 65.760438 72.945219 62.384953 69.569734 \n",
       "C 59.009469 66.19425 54.430687 64.297656 49.657031 64.297656 \n",
       "C 44.883375 64.297656 40.304594 66.19425 36.929109 69.569734 \n",
       "C 33.553625 72.945219 31.657031 77.524 31.657031 82.297656 \n",
       "C 31.657031 87.071312 33.553625 91.650094 36.929109 95.025578 \n",
       "C 40.304594 98.401063 44.883375 100.297656 49.657031 100.297656 \n",
       "L 49.657031 100.297656 \n",
       "z\n",
       "\" clip-path=\"url(#p9015165d53)\" style=\"fill: none; stroke: #000000; stroke-width: 2; stroke-linejoin: miter\"/>\n",
       "   </g>\n",
       "   <g id=\"line2d_1\">\n",
       "    <path d=\"M 49.657031 28.297656 \n",
       "L 85.657031 28.297656 \n",
       "L 88.657031 19.297656 \n",
       "L 94.657031 37.297656 \n",
       "L 100.657031 19.297656 \n",
       "L 106.657031 37.297656 \n",
       "L 112.657031 19.297656 \n",
       "L 118.657031 37.297656 \n",
       "L 121.657031 28.297656 \n",
       "L 157.657031 28.297656 \n",
       "\" clip-path=\"url(#p9015165d53)\" style=\"fill: none; stroke: #000000; stroke-width: 2; stroke-linecap: round\"/>\n",
       "   </g>\n",
       "   <g id=\"line2d_2\">\n",
       "    <path d=\"M 157.657031 28.297656 \n",
       "L 157.657031 79.057656 \n",
       "M 166.657031 79.057656 \n",
       "L 148.657031 79.057656 \n",
       "M 166.657031 85.537656 \n",
       "L 148.657031 85.537656 \n",
       "M 157.657031 85.537656 \n",
       "L 157.657031 136.297656 \n",
       "\" clip-path=\"url(#p9015165d53)\" style=\"fill: none; stroke: #000000; stroke-width: 2; stroke-linecap: round\"/>\n",
       "   </g>\n",
       "   <g id=\"line2d_3\">\n",
       "    <path d=\"M 157.657031 136.297656 \n",
       "L 103.657031 136.297656 \n",
       "L 49.657031 136.297656 \n",
       "\" clip-path=\"url(#p9015165d53)\" style=\"fill: none; stroke: #000000; stroke-width: 2; stroke-linecap: round\"/>\n",
       "   </g>\n",
       "   <g id=\"line2d_4\">\n",
       "    <path d=\"M 49.657031 136.297656 \n",
       "L 49.657031 100.297656 \n",
       "L 49.657031 100.297656 \n",
       "M 49.657031 64.297656 \n",
       "L 49.657031 64.297656 \n",
       "L 49.657031 28.297656 \n",
       "\" clip-path=\"url(#p9015165d53)\" style=\"fill: none; stroke: #000000; stroke-width: 2; stroke-linecap: round\"/>\n",
       "   </g>\n",
       "   <g id=\"line2d_5\">\n",
       "    <path d=\"M 58.657031 82.297656 \n",
       "L 57.907031 80.434159 \n",
       "L 57.157031 78.697656 \n",
       "L 56.407031 77.206487 \n",
       "L 55.657031 76.062273 \n",
       "L 54.907031 75.34299 \n",
       "L 54.157031 75.097656 \n",
       "L 53.407031 75.34299 \n",
       "L 52.657031 76.062273 \n",
       "L 51.907031 77.206487 \n",
       "L 51.157031 78.697656 \n",
       "L 50.407031 80.434159 \n",
       "L 49.657031 82.297656 \n",
       "L 48.907031 84.161153 \n",
       "L 48.157031 85.897656 \n",
       "L 47.407031 87.388825 \n",
       "L 46.657031 88.533039 \n",
       "L 45.907031 89.252322 \n",
       "L 45.157031 89.497656 \n",
       "L 44.407031 89.252322 \n",
       "L 43.657031 88.533039 \n",
       "L 42.907031 87.388825 \n",
       "L 42.157031 85.897656 \n",
       "L 41.407031 84.161153 \n",
       "L 40.657031 82.297656 \n",
       "\" clip-path=\"url(#p9015165d53)\" style=\"fill: none; stroke: #000000; stroke-width: 2; stroke-linecap: round\"/>\n",
       "   </g>\n",
       "   <g id=\"text_1\">\n",
       "    <!-- 1$\\Omega$ -->\n",
       "    <g transform=\"translate(94.844531 13.098047) scale(0.125 -0.125)\">\n",
       "     <defs>\n",
       "      <path id=\"DejaVuSans-31\" d=\"M 794 531 \n",
       "L 1825 531 \n",
       "L 1825 4091 \n",
       "L 703 3866 \n",
       "L 703 4441 \n",
       "L 1819 4666 \n",
       "L 2450 4666 \n",
       "L 2450 531 \n",
       "L 3481 531 \n",
       "L 3481 0 \n",
       "L 794 0 \n",
       "L 794 531 \n",
       "z\n",
       "\" transform=\"scale(0.015625)\"/>\n",
       "      <path id=\"DejaVuSans-3a9\" d=\"M 4647 556 \n",
       "L 4647 0 \n",
       "L 2772 0 \n",
       "L 2772 556 \n",
       "Q 3325 859 3634 1378 \n",
       "Q 3944 1897 3944 2528 \n",
       "Q 3944 3278 3531 3731 \n",
       "Q 3119 4184 2444 4184 \n",
       "Q 1769 4184 1355 3729 \n",
       "Q 941 3275 941 2528 \n",
       "Q 941 1897 1250 1378 \n",
       "Q 1563 859 2119 556 \n",
       "L 2119 0 \n",
       "L 244 0 \n",
       "L 244 556 \n",
       "L 1241 556 \n",
       "Q 747 991 519 1456 \n",
       "Q 294 1922 294 2497 \n",
       "Q 294 3491 894 4106 \n",
       "Q 1491 4722 2444 4722 \n",
       "Q 3391 4722 3994 4106 \n",
       "Q 4594 3494 4594 2528 \n",
       "Q 4594 1922 4372 1459 \n",
       "Q 4150 997 3647 556 \n",
       "L 4647 556 \n",
       "z\n",
       "\" transform=\"scale(0.015625)\"/>\n",
       "     </defs>\n",
       "     <use xlink:href=\"#DejaVuSans-31\" transform=\"translate(0 0.21875)\"/>\n",
       "     <use xlink:href=\"#DejaVuSans-3a9\" transform=\"translate(63.623047 0.21875)\"/>\n",
       "    </g>\n",
       "   </g>\n",
       "   <g id=\"text_2\">\n",
       "    <!-- 10$\\mu$F -->\n",
       "    <g transform=\"translate(113.932031 85.721484) scale(0.125 -0.125)\">\n",
       "     <defs>\n",
       "      <path id=\"DejaVuSans-30\" d=\"M 2034 4250 \n",
       "Q 1547 4250 1301 3770 \n",
       "Q 1056 3291 1056 2328 \n",
       "Q 1056 1369 1301 889 \n",
       "Q 1547 409 2034 409 \n",
       "Q 2525 409 2770 889 \n",
       "Q 3016 1369 3016 2328 \n",
       "Q 3016 3291 2770 3770 \n",
       "Q 2525 4250 2034 4250 \n",
       "z\n",
       "M 2034 4750 \n",
       "Q 2819 4750 3233 4129 \n",
       "Q 3647 3509 3647 2328 \n",
       "Q 3647 1150 3233 529 \n",
       "Q 2819 -91 2034 -91 \n",
       "Q 1250 -91 836 529 \n",
       "Q 422 1150 422 2328 \n",
       "Q 422 3509 836 4129 \n",
       "Q 1250 4750 2034 4750 \n",
       "z\n",
       "\" transform=\"scale(0.015625)\"/>\n",
       "      <path id=\"DejaVuSans-Oblique-3bc\" d=\"M -84 -1331 \n",
       "L 856 3500 \n",
       "L 1434 3500 \n",
       "L 1009 1322 \n",
       "Q 997 1256 987 1175 \n",
       "Q 978 1094 978 1013 \n",
       "Q 978 722 1161 565 \n",
       "Q 1344 409 1684 409 \n",
       "Q 2147 409 2431 671 \n",
       "Q 2716 934 2816 1459 \n",
       "L 3213 3500 \n",
       "L 3788 3500 \n",
       "L 3266 809 \n",
       "Q 3253 750 3248 706 \n",
       "Q 3244 663 3244 628 \n",
       "Q 3244 531 3283 486 \n",
       "Q 3322 441 3406 441 \n",
       "Q 3438 441 3492 456 \n",
       "Q 3547 472 3647 513 \n",
       "L 3559 50 \n",
       "Q 3422 -19 3297 -55 \n",
       "Q 3172 -91 3053 -91 \n",
       "Q 2847 -91 2730 40 \n",
       "Q 2613 172 2613 403 \n",
       "Q 2438 153 2195 31 \n",
       "Q 1953 -91 1625 -91 \n",
       "Q 1334 -91 1117 43 \n",
       "Q 900 178 831 397 \n",
       "L 494 -1331 \n",
       "L -84 -1331 \n",
       "z\n",
       "\" transform=\"scale(0.015625)\"/>\n",
       "      <path id=\"DejaVuSans-46\" d=\"M 628 4666 \n",
       "L 3309 4666 \n",
       "L 3309 4134 \n",
       "L 1259 4134 \n",
       "L 1259 2759 \n",
       "L 3109 2759 \n",
       "L 3109 2228 \n",
       "L 1259 2228 \n",
       "L 1259 0 \n",
       "L 628 0 \n",
       "L 628 4666 \n",
       "z\n",
       "\" transform=\"scale(0.015625)\"/>\n",
       "     </defs>\n",
       "     <use xlink:href=\"#DejaVuSans-31\" transform=\"translate(0 0.78125)\"/>\n",
       "     <use xlink:href=\"#DejaVuSans-30\" transform=\"translate(63.623047 0.78125)\"/>\n",
       "     <use xlink:href=\"#DejaVuSans-Oblique-3bc\" transform=\"translate(127.246094 0.78125)\"/>\n",
       "     <use xlink:href=\"#DejaVuSans-46\" transform=\"translate(190.869141 0.78125)\"/>\n",
       "    </g>\n",
       "   </g>\n",
       "   <g id=\"text_3\">\n",
       "    <!-- 10V -->\n",
       "    <g transform=\"translate(3.6 85.746875) scale(0.125 -0.125)\">\n",
       "     <defs>\n",
       "      <path id=\"DejaVuSans-56\" d=\"M 1831 0 \n",
       "L 50 4666 \n",
       "L 709 4666 \n",
       "L 2188 738 \n",
       "L 3669 4666 \n",
       "L 4325 4666 \n",
       "L 2547 0 \n",
       "L 1831 0 \n",
       "z\n",
       "\" transform=\"scale(0.015625)\"/>\n",
       "     </defs>\n",
       "     <use xlink:href=\"#DejaVuSans-31\"/>\n",
       "     <use xlink:href=\"#DejaVuSans-30\" x=\"63.623047\"/>\n",
       "     <use xlink:href=\"#DejaVuSans-56\" x=\"127.246094\"/>\n",
       "    </g>\n",
       "   </g>\n",
       "  </g>\n",
       " </g>\n",
       " <defs>\n",
       "  <clipPath id=\"p9015165d53\">\n",
       "   <rect x=\"24.907031\" y=\"13.447656\" width=\"148.5\" height=\"128.7\"/>\n",
       "  </clipPath>\n",
       " </defs>\n",
       "</svg>\n"
      ],
      "text/plain": [
       "<schemdraw.backends.mpl.Figure object at 0x7ff691a065f0>"
      ]
     },
     "execution_count": 4,
     "metadata": {},
     "output_type": "execute_result"
    }
   ],
   "source": [
    "%matplotlib inline\n",
    "%config InlineBackend.figure_format = 'svg'\n",
    "\n",
    "import schemdraw\n",
    "import schemdraw.elements as elm\n",
    "\n",
    "elm.Resistor(label='R1')\n",
    "\n",
    "d = schemdraw.Drawing()\n",
    "d.add(elm.Resistor(d='right', label='1$\\Omega$'))\n",
    "d.add(elm.Capacitor(d='down', label='10$\\mu$F'))\n",
    "d.add(elm.Line(d='left'))\n",
    "d.add(elm.SourceSin(d='up', label='10V'))\n",
    "\n",
    "d.draw()\n",
    "\n",
    "# d.save('basic_rc.svg')"
   ]
  },
  {
   "cell_type": "markdown",
   "metadata": {
    "nteract": {
     "transient": {
      "deleting": false
     }
    }
   },
   "source": [
    "*SchemDraw*\n",
    "\n",
    "- https://schemdraw.readthedocs.io/en/0.7.1/usage/start.html"
   ]
  },
  {
   "cell_type": "code",
   "execution_count": null,
   "metadata": {
    "nteract": {
     "transient": {
      "deleting": false
     }
    },
    "tags": []
   },
   "outputs": [],
   "source": []
  },
  {
   "cell_type": "code",
   "execution_count": null,
   "metadata": {},
   "outputs": [],
   "source": []
  }
 ],
 "metadata": {
  "kernel_info": {
   "name": "python3"
  },
  "kernelspec": {
   "display_name": "Python 3 (ipykernel)",
   "language": "python",
   "name": "python3"
  },
  "language_info": {
   "codemirror_mode": {
    "name": "ipython",
    "version": 3
   },
   "file_extension": ".py",
   "mimetype": "text/x-python",
   "name": "python",
   "nbconvert_exporter": "python",
   "pygments_lexer": "ipython3",
   "version": "3.8.2"
  },
  "nteract": {
   "version": "0.28.0"
  }
 },
 "nbformat": 4,
 "nbformat_minor": 4
}
