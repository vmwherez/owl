{
  "cells": [
    {
      "cell_type": "markdown",
      "source": [
        "# 2023-07-16\n",
        "`9:39p`\n",
        "\n",
        "- sympy\n",
        "- pandas\n",
        "- seaborn"
      ],
      "metadata": {}
    },
    {
      "cell_type": "code",
      "source": [
        "import sympy\n",
        "import pandas as pd\n",
        "import seaborn as sns\n",
        "# print and expression using sympy\n",
        "    \n",
        "x = sympy.Symbol('x')    \n",
        "\n",
        "sympy.Integral(sympy.sqrt(1/x), x)\n"
      ],
      "outputs": [],
      "execution_count": null,
      "metadata": {}
    },
    {
      "cell_type": "code",
      "source": [
        "# generate a pandas dataframe\n",
        "pd.DataFrame({'a': [1,2,3], 'b': [4,5,6]})\n",
        "\n",
        "# generate a large pandas dataframe\n",
        "pd.DataFrame({'a': range(1000), 'b': range(1000)})\n",
        "\n",
        "i = 2000\n",
        "a = range(i)\n",
        "b = range(1, i+1)   \n",
        "print(a, b)\n",
        "\n",
        "d = pd.DataFrame({'a': a, 'b': b}).describe()\n",
        " \n",
        "# print a as a list\n",
        "print(list(a))\n",
        "print(list(b))   \n",
        "\n",
        "ratios = []\n",
        "\n",
        "for i in a:\n",
        "    c = list(a)[i] / list(b)[i]\n",
        "    ratios.append(c)\n",
        "    \n",
        "# plot the ratios with matplotlib\n",
        "\n",
        "# plot the ratios with seaborn\n",
        "sns.lineplot(data=ratios)\n",
        "\n",
        "d"
      ],
      "outputs": [],
      "execution_count": null,
      "metadata": {}
    },
    {
      "cell_type": "markdown",
      "source": [
        "Plot a sinewave in Latex:\n",
        "\n",
        "$$\n",
        "\n",
        "$$"
      ],
      "metadata": {}
    },
    {
      "cell_type": "code",
      "source": [
        "\"\"\"\n",
        "Demo of TeX rendering.\n",
        "\n",
        "You can use TeX to render all of your matplotlib text if the rc\n",
        "parameter text.usetex is set.  This works currently on the agg and ps\n",
        "backends, and requires that you have tex and the other dependencies\n",
        "described at http://matplotlib.org/users/usetex.html\n",
        "properly installed on your system.  The first time you run a script\n",
        "you will see a lot of output from tex and associated tools.  The next\n",
        "time, the run may be silent, as a lot of the information is cached in\n",
        "~/.tex.cache\n",
        "\n",
        "\"\"\"\n",
        "import numpy as np\n",
        "import matplotlib.pyplot as plt\n",
        "\n",
        "\n",
        "# Example data\n",
        "t = np.arange(0.0, 1.0 + 0.01, 0.01)\n",
        "s = np.cos(4 * np.pi * t) + 2\n",
        "\n",
        "plt.rc('text', usetex=True)\n",
        "plt.rc('font', family='serif')\n",
        "plt.plot(t, s)\n",
        "\n",
        "plt.xlabel(r'{time} (s)')\n",
        "plt.ylabel(r'{voltage} (mV)',fontsize=16)\n",
        "plt.title(r\"\\TeX\\ is Number \"\n",
        "          r\"$\\displaystyle\\sum_{n=1}^\\infty\\frac{-e^{i\\pi}}{2^n}$!\",\n",
        "          fontsize=16, color='gray')\n",
        "# Make room for the ridiculously large title.\n",
        "plt.subplots_adjust(top=0.8)\n",
        "\n",
        "# plt.savefig('tex_demo')\n",
        "plt.show()\n",
        "\n",
        "\n",
        "\n",
        "# plt.plot([1, 2, 3])\n",
        "# plt.xlabel(r'$\\frac{\\mathrm{Actual\\,Value\\,of\\,Production}}\\mathrm{{Demand}}$', fontsize=16)\n",
        "\n",
        "# plt.show()\n"
      ],
      "outputs": [],
      "execution_count": null,
      "metadata": {
        "execution": {
          "iopub.status.busy": "2023-07-17T16:43:59.770Z",
          "iopub.execute_input": "2023-07-17T16:43:59.789Z",
          "iopub.status.idle": "2023-07-17T16:44:17.666Z",
          "shell.execute_reply": "2023-07-17T16:44:17.686Z"
        }
      }
    },
    {
      "cell_type": "markdown",
      "source": [
        "`2023-07-17 | 10:45a` "
      ],
      "metadata": {
        "nteract": {
          "transient": {
            "deleting": false
          }
        }
      }
    },
    {
      "cell_type": "code",
      "source": [
        "!conda install altair -y\n",
        "# import altair with an abbreviated alias\n",
        "import altair as alt\n",
        "\n",
        "# load a sample dataset as a pandas DataFrame\n",
        "from vega_datasets import data\n",
        "cars = data.cars()\n",
        "\n",
        "# make the chart\n",
        "alt.Chart(cars).mark_point().encode(\n",
        "    x='Horsepower',\n",
        "    y='Miles_per_Gallon',\n",
        "    color='Origin',\n",
        ").interactive()"
      ],
      "outputs": [],
      "execution_count": null,
      "metadata": {
        "collapsed": false,
        "jupyter": {
          "source_hidden": false,
          "outputs_hidden": false
        },
        "nteract": {
          "transient": {
            "deleting": false
          }
        },
        "execution": {
          "iopub.status.busy": "2023-07-17T17:25:28.091Z",
          "iopub.execute_input": "2023-07-17T17:25:28.100Z"
        }
      }
    }
  ],
  "metadata": {
    "kernelspec": {
      "display_name": "base",
      "language": "python",
      "name": "python3"
    },
    "language_info": {
      "name": "python",
      "version": "3.10.8",
      "mimetype": "text/x-python",
      "codemirror_mode": {
        "name": "ipython",
        "version": 3
      },
      "pygments_lexer": "ipython3",
      "nbconvert_exporter": "python",
      "file_extension": ".py"
    },
    "orig_nbformat": 4,
    "nteract": {
      "version": "0.28.0"
    }
  },
  "nbformat": 4,
  "nbformat_minor": 2
}