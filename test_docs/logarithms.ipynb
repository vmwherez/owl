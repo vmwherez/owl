{
 "cells": [
  {
   "cell_type": "markdown",
   "metadata": {},
   "source": [
    "# logarithms\n",
    "\n",
    "*logos* *arithmetic*\n",
    "\n",
    "`2023-06-04 | 12:23a` Noting my memories of confusing `logarithm` with `alogrithm` probably 10 years ago, maybe around the time at Scrib in Boulder. I think at that time I was studying algorithms for the first time and knew they were different, but had an earlier memory of confusing both words, probably going back to middle school.  \n",
    "\n",
    "- https://math.stackexchange.com/questions/61209/what-algorithm-is-used-by-computers-to-calculate-logarithms\n",
    "\n",
    "$$\\log_216 = 4$$\n",
    "because\n",
    "\n",
    "$$ 2^4 = 2 \\times 2 \\times 2 \\times 2 = 16$$\n",
    "`12:36a` Interesting observation of passage of time, noticed the other night that 10min felt much longer. I looked up 'time dilation' because I wasn't sure about the usage of the word. \n",
    "\n",
    "- https://en.wikipedia.org/wiki/Time_dilation\n",
    "\n",
    "Also, thought maybe the mini was running hot, couldn't log in remote. But I had forgotten I removed the local keyboard's batteries. \n",
    "Either way, the mini is not powerful enough and I need to consolidate environments. There is still a bunch of stuff on there though. \n",
    "\n",
    "`12:51a` Coming up on `1a` and then it will be only a few hours until my walk. I made good first steps toward properly understand logarithms. \n",
    "    \n",
    "##### `log` links\n",
    "- https://en.wikipedia.org/wiki/Logarithm *review with historical context*\n",
    "- https://en.wikipedia.org/wiki/Mirifici_Logarithmorum_Canonis_Descriptio\n",
    "- https://en.wikipedia.org/wiki/Prosthaphaeresis\n",
    "\n",
    "- https://artofproblemsolving.com/wiki/index.php/Logarithm\n",
    "- https://www.overleaf.com/articles/logarithms/skwshvtxmpqt.pdf\n",
    "\n",
    "##### python things\n",
    "- https://stackoverflow.com/questions/23832864/python-logarithm-function\n",
    "- https://docs.sympy.org/dev/modules/solvers/solvers.html\n",
    "\n",
    "\n",
    "##### slide rule & analog computers\n",
    "\n",
    "- https://mathematicalmysteries.org/slide-rule/\n",
    "- https://blog.cambridgecoaching.com/slide-rules-logarithms-and-analog-computers\n",
    "\n",
    "Found a touch point with the *chain rule*.\n",
    "\n",
    "https://math.stackexchange.com/questions/112235/derivatives-of-logarithmic-functions-and-the-chain-rule\n",
    "https://math.stackexchange.com/questions/4060611/chain-rule-of-logarithm\n",
    "\n",
    "\n",
    "`1a`\n",
    "\n",
    "- simple Khan Academy intro\n",
    "- https://youtu.be/Z5myJ8dg_rM\n",
    "\n",
    "`1:48a` closing out tabs\n",
    "\n",
    "`1:57a` https://www.youtube.com/watch?v=PupNgv49_WY *more advanced logarithm things*\n",
    "\n",
    "`2a`\n",
    "\n",
    "https://www.indiatoday.in/education-today/gk-current-affairs/story/remembering-the-person-behind-all-computer-software-john-napier-1204345-2018-04-04\n",
    "\n",
    "\n",
    "$$ pi $$"
   ]
  },
  {
   "cell_type": "code",
   "execution_count": null,
   "metadata": {
    "collapsed": true,
    "jupyter": {
     "outputs_hidden": true,
     "source_hidden": false
    },
    "nteract": {
     "transient": {
      "deleting": false
     }
    }
   },
   "outputs": [],
   "source": []
  },
  {
   "cell_type": "code",
   "execution_count": 11,
   "metadata": {
    "execution": {
     "iopub.execute_input": "2023-07-03T03:47:42.542Z",
     "iopub.status.busy": "2023-07-03T03:47:42.535Z",
     "iopub.status.idle": "2023-07-03T03:47:42.551Z",
     "shell.execute_reply": "2023-07-03T03:47:42.575Z"
    }
   },
   "outputs": [],
   "source": [
    "def generate_series():\n",
    "  \"\"\"\n",
    "  Just getting some things going here.\n",
    "  \"\"\"\n",
    "  print('ok')\n",
    "  pass"
   ]
  },
  {
   "cell_type": "code",
   "execution_count": 12,
   "metadata": {
    "execution": {
     "iopub.execute_input": "2023-07-03T03:47:42.567Z",
     "iopub.status.busy": "2023-07-03T03:47:42.560Z",
     "iopub.status.idle": "2023-07-03T03:47:43.083Z",
     "shell.execute_reply": "2023-07-03T03:47:43.111Z"
    },
    "nteract": {
     "transient": {
      "deleting": false
     }
    },
    "tags": []
   },
   "outputs": [
    {
     "name": "stdout",
     "output_type": "stream",
     "text": [
      "ok\n",
      "Package                       Version\n",
      "----------------------------- --------\n",
      "appnope                       0.1.3\n",
      "asttokens                     2.2.1\n",
      "backcall                      0.2.0\n",
      "backports.functools-lru-cache 1.6.4\n",
      "boltons                       23.0.0\n",
      "brotlipy                      0.7.0\n",
      "certifi                       2023.5.7\n",
      "cffi                          1.15.1\n",
      "charset-normalizer            2.0.4\n",
      "comm                          0.1.3\n",
      "conda                         23.5.0\n",
      "conda-content-trust           0.1.3\n",
      "conda-package-handling        2.0.2\n",
      "conda_package_streaming       0.7.0\n",
      "cryptography                  39.0.1\n",
      "debugpy                       1.6.7\n",
      "decorator                     5.1.1\n",
      "executing                     1.2.0\n",
      "idna                          3.4\n",
      "importlib-metadata            6.7.0\n",
      "ipykernel                     6.19.2\n",
      "ipython                       8.14.0\n",
      "jedi                          0.18.2\n",
      "jsonpatch                     1.32\n",
      "jsonpointer                   2.1\n",
      "jupyter_client                8.2.0\n",
      "jupyter_core                  5.3.1\n",
      "matplotlib-inline             0.1.6\n",
      "nest-asyncio                  1.5.6\n",
      "packaging                     23.0\n",
      "parso                         0.8.3\n",
      "pexpect                       4.8.0\n",
      "pickleshare                   0.7.5\n",
      "pip                           23.0.1\n",
      "platformdirs                  3.6.0\n",
      "pluggy                        1.0.0\n",
      "prompt-toolkit                3.0.38\n",
      "psutil                        5.9.5\n",
      "ptyprocess                    0.7.0\n",
      "pure-eval                     0.2.2\n",
      "pycosat                       0.6.4\n",
      "pycparser                     2.21\n",
      "Pygments                      2.15.1\n",
      "pyOpenSSL                     23.0.0\n",
      "PySocks                       1.7.1\n",
      "python-dateutil               2.8.2\n",
      "pyzmq                         25.1.0\n",
      "requests                      2.28.1\n",
      "ruamel.yaml                   0.17.21\n",
      "ruamel.yaml.clib              0.2.6\n",
      "setuptools                    65.6.3\n",
      "six                           1.16.0\n",
      "stack-data                    0.6.2\n",
      "toolz                         0.12.0\n",
      "tornado                       6.3.2\n",
      "tqdm                          4.65.0\n",
      "traitlets                     5.9.0\n",
      "typing_extensions             4.6.3\n",
      "urllib3                       1.26.15\n",
      "wcwidth                       0.2.6\n",
      "wheel                         0.38.4\n",
      "zipp                          3.15.0\n",
      "zstandard                     0.19.0\n"
     ]
    }
   ],
   "source": [
    "generate_series()\n",
    "!pip list"
   ]
  },
  {
   "cell_type": "code",
   "execution_count": 13,
   "metadata": {
    "collapsed": true,
    "execution": {
     "iopub.execute_input": "2023-07-03T03:47:43.100Z",
     "iopub.status.busy": "2023-07-03T03:47:43.094Z",
     "iopub.status.idle": "2023-07-03T03:47:43.700Z",
     "shell.execute_reply": "2023-07-03T03:47:43.710Z"
    },
    "jupyter": {
     "outputs_hidden": true,
     "source_hidden": false
    },
    "nteract": {
     "transient": {
      "deleting": false
     }
    }
   },
   "outputs": [
    {
     "name": "stdout",
     "output_type": "stream",
     "text": [
      "# packages in environment at /Users/vincent.miller@nutrien.com/miniconda3:\n",
      "#\n",
      "# Name                    Version                   Build  Channel\n",
      "appnope                   0.1.3              pyhd8ed1ab_0    conda-forge\n",
      "asttokens                 2.2.1              pyhd8ed1ab_0    conda-forge\n",
      "backcall                  0.2.0              pyh9f0ad1d_0    conda-forge\n",
      "backports                 1.0                pyhd8ed1ab_3    conda-forge\n",
      "backports.functools_lru_cache 1.6.4              pyhd8ed1ab_0    conda-forge\n",
      "boltons                   23.0.0          py310hecd8cb5_0  \n",
      "brotlipy                  0.7.0           py310hca72f7f_1002  \n",
      "bzip2                     1.0.8                h1de35cc_0  \n",
      "ca-certificates           2023.05.30           hecd8cb5_0  \n",
      "certifi                   2023.5.7        py310hecd8cb5_0  \n",
      "cffi                      1.15.1          py310h6c40b1e_3  \n",
      "charset-normalizer        2.0.4              pyhd3eb1b0_0  \n",
      "comm                      0.1.3              pyhd8ed1ab_0    conda-forge\n",
      "conda                     23.5.0          py310hecd8cb5_0  \n",
      "conda-content-trust       0.1.3           py310hecd8cb5_0  \n",
      "conda-package-handling    2.0.2           py310hecd8cb5_0  \n",
      "conda-package-streaming   0.7.0           py310hecd8cb5_0  \n",
      "cryptography              39.0.1          py310hf6deb26_0  \n",
      "debugpy                   1.6.7           py310h7a76584_0    conda-forge\n",
      "decorator                 5.1.1              pyhd8ed1ab_0    conda-forge\n",
      "executing                 1.2.0              pyhd8ed1ab_0    conda-forge\n",
      "idna                      3.4             py310hecd8cb5_0  \n",
      "importlib-metadata        6.7.0              pyha770c72_0    conda-forge\n",
      "importlib_metadata        6.7.0                hd8ed1ab_0    conda-forge\n",
      "ipykernel                 6.19.2          py310h20db666_0  \n",
      "ipython                   8.14.0             pyhd1c38e8_0    conda-forge\n",
      "jedi                      0.18.2             pyhd8ed1ab_0    conda-forge\n",
      "jsonpatch                 1.32               pyhd3eb1b0_0  \n",
      "jsonpointer               2.1                pyhd3eb1b0_0  \n",
      "jupyter_client            8.2.0              pyhd8ed1ab_0    conda-forge\n",
      "jupyter_core              5.3.1           py310h2ec42d9_0    conda-forge\n",
      "libcxx                    16.0.6               hd57cbcb_0    conda-forge\n",
      "libffi                    3.4.2                hecd8cb5_6  \n",
      "libsodium                 1.0.18               hbcb3906_1    conda-forge\n",
      "matplotlib-inline         0.1.6              pyhd8ed1ab_0    conda-forge\n",
      "ncurses                   6.4                  hcec6c5f_0  \n",
      "nest-asyncio              1.5.6              pyhd8ed1ab_0    conda-forge\n",
      "openssl                   1.1.1u               hca72f7f_0  \n",
      "packaging                 23.0            py310hecd8cb5_0  \n",
      "parso                     0.8.3              pyhd8ed1ab_0    conda-forge\n",
      "pexpect                   4.8.0              pyh1a96a4e_2    conda-forge\n",
      "pickleshare               0.7.5                   py_1003    conda-forge\n",
      "pip                       23.0.1          py310hecd8cb5_0  \n",
      "platformdirs              3.6.0              pyhd8ed1ab_0    conda-forge\n",
      "pluggy                    1.0.0           py310hecd8cb5_1  \n",
      "prompt-toolkit            3.0.38             pyha770c72_0    conda-forge\n",
      "prompt_toolkit            3.0.38               hd8ed1ab_0    conda-forge\n",
      "psutil                    5.9.5           py310h90acd4f_0    conda-forge\n",
      "ptyprocess                0.7.0              pyhd3deb0d_0    conda-forge\n",
      "pure_eval                 0.2.2              pyhd8ed1ab_0    conda-forge\n",
      "pycosat                   0.6.4           py310hca72f7f_0  \n",
      "pycparser                 2.21               pyhd3eb1b0_0  \n",
      "pygments                  2.15.1             pyhd8ed1ab_0    conda-forge\n",
      "pyopenssl                 23.0.0          py310hecd8cb5_0  \n",
      "pysocks                   1.7.1           py310hecd8cb5_0  \n",
      "python                    3.10.10              h218abb5_2  \n",
      "python-dateutil           2.8.2              pyhd8ed1ab_0    conda-forge\n",
      "python.app                3               py310hca72f7f_0  \n",
      "python_abi                3.10                    2_cp310    conda-forge\n",
      "pyzmq                     25.1.0          py310h998be00_0    conda-forge\n",
      "readline                  8.2                  hca72f7f_0  \n",
      "requests                  2.28.1          py310hecd8cb5_1  \n",
      "ruamel.yaml               0.17.21         py310hca72f7f_0  \n",
      "ruamel.yaml.clib          0.2.6           py310hca72f7f_1  \n",
      "setuptools                65.6.3          py310hecd8cb5_0  \n",
      "six                       1.16.0             pyhd3eb1b0_1  \n",
      "sqlite                    3.41.1               h6c40b1e_0  \n",
      "stack_data                0.6.2              pyhd8ed1ab_0    conda-forge\n",
      "tk                        8.6.12               h5d9f67b_0  \n",
      "toolz                     0.12.0          py310hecd8cb5_0  \n",
      "tornado                   6.3.2           py310h6729b98_0    conda-forge\n",
      "tqdm                      4.65.0          py310h20db666_0  \n",
      "traitlets                 5.9.0              pyhd8ed1ab_0    conda-forge\n",
      "typing-extensions         4.6.3                hd8ed1ab_0    conda-forge\n",
      "typing_extensions         4.6.3              pyha770c72_0    conda-forge\n",
      "tzdata                    2023c                h04d1e81_0  \n",
      "urllib3                   1.26.15         py310hecd8cb5_0  \n",
      "wcwidth                   0.2.6              pyhd8ed1ab_0    conda-forge\n",
      "wheel                     0.38.4          py310hecd8cb5_0  \n",
      "xz                        5.2.10               h6c40b1e_1  \n",
      "zeromq                    4.3.4                he49afe7_1    conda-forge\n",
      "zipp                      3.15.0             pyhd8ed1ab_0    conda-forge\n",
      "zlib                      1.2.13               h4dc903c_0  \n",
      "zstandard                 0.19.0          py310h6c40b1e_0  \n"
     ]
    }
   ],
   "source": [
    "!conda list\n"
   ]
  }
 ],
 "metadata": {
  "kernelspec": {
   "display_name": "Python 3 (ipykernel)",
   "language": "python",
   "name": "python3"
  },
  "language_info": {
   "codemirror_mode": {
    "name": "ipython",
    "version": 3
   },
   "file_extension": ".py",
   "mimetype": "text/x-python",
   "name": "python",
   "nbconvert_exporter": "python",
   "pygments_lexer": "ipython3",
   "version": "3.8.2"
  },
  "nteract": {
   "version": "0.28.0"
  }
 },
 "nbformat": 4,
 "nbformat_minor": 4
}
