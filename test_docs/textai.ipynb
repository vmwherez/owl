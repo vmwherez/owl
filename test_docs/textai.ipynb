{
 "cells": [
  {
   "attachments": {},
   "cell_type": "markdown",
   "metadata": {},
   "source": [
    "# txtai demo\n",
    "\n",
    "note: this crashed on MBP 2015"
   ]
  },
  {
   "cell_type": "code",
   "execution_count": null,
   "metadata": {},
   "outputs": [],
   "source": [
    "from txtai.embeddings import Embeddings\n",
    "\n",
    "# Create embeddings model, backed by sentence-transformers & transformers\n",
    "embeddings = Embeddings({\"path\": \"sentence-transformers/nli-mpnet-base-v2\"})\n",
    "\n",
    "data = [\"US tops 5 million confirmed virus cases\",\n",
    "        \"Canada's last fully intact ice shelf has suddenly collapsed, forming a Manhattan-sized iceberg\",\n",
    "        \"Beijing mobilises invasion craft along coast as Taiwan tensions escalate\",\n",
    "        \"The National Park Service warns against sacrificing slower friends in a bear attack\",\n",
    "        \"Maine man wins $1M from $25 lottery ticket\",\n",
    "        \"Make huge profits without work, earn up to $100,000 a day\"]\n",
    "\n",
    "print(\"%-20s %s\" % (\"Query\", \"Best Match\"))\n",
    "print(\"-\" * 50)\n",
    "\n",
    "for query in (\"feel good story\", \"climate change\", \"public health story\", \"war\", \"wildlife\", \"asia\", \"lucky\", \"dishonest junk\"):\n",
    "    # Get index of best section that best matches query\n",
    "    uid = embeddings.similarity(query, data)[0][0]\n",
    "\n",
    "    print(\"%-20s %s\" % (query, data[uid]))"
   ]
  }
 ],
 "metadata": {
  "language_info": {
   "name": "python"
  },
  "orig_nbformat": 4
 },
 "nbformat": 4,
 "nbformat_minor": 2
}
