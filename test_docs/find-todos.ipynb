{
 "cells": [
  {
   "cell_type": "code",
   "execution_count": 5,
   "metadata": {},
   "outputs": [
    {
     "name": "stdout",
     "output_type": "stream",
     "text": [
      "['PASTEUR.md', 'BACKEND.md', '0000-00-00.md', 'FRONTEND.md', 'QUARTO.md', 'LOCAL_CLOUD.md']\n",
      "['0000-00-00.md']\n",
      "['', '', '- [ ] one', '- [ ] two', '- [ ] three', '']\n",
      "['- [ ] one', '- [ ] two', '- [ ] three']\n"
     ]
    }
   ],
   "source": [
    "import os\n",
    "\n",
    "# search for markdown files in the docs folder\n",
    "\n",
    "files = os.listdir(\"./\")\n",
    "\n",
    "entries = [f for f in files if f.endswith(\".md\")]\n",
    "\n",
    "print(entries)\n",
    "\n",
    "# filter for filenames starting with an integer\n",
    "entries = [f for f in entries if f[0].isdigit()]\n",
    "\n",
    "print(entries)\n",
    "\n",
    "# load the markdown file\n",
    "with open(entries[0], \"r\") as f:\n",
    "    # read the file\n",
    "    entry = str(f.read())\n",
    "    # find the string \"#### TODOS\"\n",
    "    # find the todo list\n",
    "    todos = entry.split(\"#### TODOS\")[1].split(\"\\n\")\n",
    "    print(todos)\n",
    "    todos = [t for t in todos if t != \"\" and t[0] == \"-\" and t[2] == \"[\"]\n",
    "    print(todos)\n",
    "    \n",
    "    # print the next line and check if it starts with a dash\n",
    "    # is_todo = [t for t in todos if t[0] == \"-\"]\n",
    "    # print(todos)\n"
   ]
  }
 ],
 "metadata": {
  "kernelspec": {
   "display_name": "base",
   "language": "python",
   "name": "python3"
  },
  "language_info": {
   "codemirror_mode": {
    "name": "ipython",
    "version": 3
   },
   "file_extension": ".py",
   "mimetype": "text/x-python",
   "name": "python",
   "nbconvert_exporter": "python",
   "pygments_lexer": "ipython3",
   "version": "3.10.12"
  },
  "orig_nbformat": 4
 },
 "nbformat": 4,
 "nbformat_minor": 2
}
